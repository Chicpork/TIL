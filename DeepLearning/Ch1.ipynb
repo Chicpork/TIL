{
 "metadata": {
  "language_info": {
   "codemirror_mode": {
    "name": "ipython",
    "version": 3
   },
   "file_extension": ".py",
   "mimetype": "text/x-python",
   "name": "python",
   "nbconvert_exporter": "python",
   "pygments_lexer": "ipython3",
   "version": "3.7.4-final"
  },
  "orig_nbformat": 2,
  "kernelspec": {
   "name": "litbook",
   "display_name": "Litbook"
  }
 },
 "nbformat": 4,
 "nbformat_minor": 2,
 "cells": [
  {
   "source": [
    "# Chapter1_03 Python"
   ],
   "cell_type": "markdown",
   "metadata": {}
  },
  {
   "source": [
    "data = [10, 20, 30]\n",
    "print(data)"
   ],
   "cell_type": "code",
   "metadata": {},
   "execution_count": null,
   "outputs": []
  },
  {
   "cell_type": "code",
   "execution_count": null,
   "metadata": {},
   "outputs": [],
   "source": [
    "class tmp_class:\n",
    "    pass\n",
    "\n",
    "data = [10, 'Hello', tmp_class()]\n",
    "print(data)"
   ]
  },
  {
   "cell_type": "code",
   "execution_count": null,
   "metadata": {},
   "outputs": [],
   "source": [
    "data = [10, 20, 30, 40, 50, 60]\n",
    "print(data[0])\n",
    "print(data[1])\n",
    "print(data[2:2+3])\n",
    "print(data[-2:])"
   ]
  },
  {
   "cell_type": "code",
   "execution_count": null,
   "metadata": {},
   "outputs": [],
   "source": [
    "tmp_list = [1, 2, 3]\n",
    "tmp_list2 = [10, 20, 30]\n",
    "print(tmp_list + tmp_list2)\n",
    "print(tmp_list*3)"
   ]
  },
  {
   "cell_type": "code",
   "execution_count": null,
   "metadata": {},
   "outputs": [],
   "source": [
    "tmp_list = [i for i in range(10)]\n",
    "print(tmp_list)\n",
    "\n",
    "def plus_ten(input_val):\n",
    "    return input_val + 10\n",
    "\n",
    "tmp_list2 = [plus_ten(i) for i in range(10)]\n",
    "print(tmp_list2)"
   ]
  }
 ]
}